{
 "cells": [
  {
   "cell_type": "markdown",
   "metadata": {},
   "source": [
    "## Observations "
   ]
  },
  {
   "cell_type": "markdown",
   "metadata": {},
   "source": [
    "+ From the data displayed we can conclude each drug regiment was correctly analyzed because we have a maximum SEM of 0.603860 that belongs to Ketapril. This means the mean of each regimen is closer to the mean of all regimens.\n",
    "+ In looking at the box and whiskers you can see there is no outliers. This implies we have a consistent behaviour of the tumor volume.\n",
    "+ When analyzing a single mouse of Capomulin drug we see the tumor went from 45 mm^3 to less than 25 mm^3, also there is a large change from 0 to the 10 timepoint. Looking at this we can see the drug has a big influence on the tumor volume at the start of the test.\n",
    "+ When applying the linear regression to the data Weight vs Average tumor we got a correlation factor(r^2) of 0.8419, this is an excellent indicator there is a strong relation between the weight of the mouse and the avg tumor volume."
   ]
  },
  {
   "cell_type": "markdown",
   "metadata": {},
   "source": [
    "## Dependencies and starter code"
   ]
  },
  {
   "cell_type": "code",
   "execution_count": 1,
   "metadata": {},
   "outputs": [],
   "source": [
    "# Dependencies and Setup\n",
    "import matplotlib.pyplot as plt\n",
    "import pandas as pd\n",
    "import numpy as np\n",
    "import scipy.stats as st\n",
    "import random\n",
    "from scipy.stats import sem\n",
    "import scipy.stats as st\n",
    "from sklearn import datasets\n",
    "# Study data files\n",
    "mouse_metadata = \"data/Mouse_metadata.csv\"\n",
    "study_results = \"data/Study_results.csv\"\n",
    "\n",
    "# Read the mouse data and the study results\n",
    "mouse_metadata = pd.read_csv(mouse_metadata)\n",
    "study_results = pd.read_csv(study_results)\n",
    "#print(f\"{mouse_metadata.head()}\")\n",
    "#print(f\"{study_results.head()}\")\n",
    "# Combine the data into a single dataset\n",
    "MS=pd.merge(mouse_metadata,study_results,on=\"Mouse ID\")"
   ]
  },
  {
   "cell_type": "code",
   "execution_count": 2,
   "metadata": {},
   "outputs": [
    {
     "data": {
      "text/html": [
       "<div>\n",
       "<style scoped>\n",
       "    .dataframe tbody tr th:only-of-type {\n",
       "        vertical-align: middle;\n",
       "    }\n",
       "\n",
       "    .dataframe tbody tr th {\n",
       "        vertical-align: top;\n",
       "    }\n",
       "\n",
       "    .dataframe thead th {\n",
       "        text-align: right;\n",
       "    }\n",
       "</style>\n",
       "<table border=\"1\" class=\"dataframe\">\n",
       "  <thead>\n",
       "    <tr style=\"text-align: right;\">\n",
       "      <th></th>\n",
       "      <th>Mouse ID</th>\n",
       "      <th>Drug Regimen</th>\n",
       "      <th>Sex</th>\n",
       "      <th>Age_months</th>\n",
       "      <th>Weight (g)</th>\n",
       "      <th>Timepoint</th>\n",
       "      <th>Tumor Volume (mm3)</th>\n",
       "      <th>Metastatic Sites</th>\n",
       "    </tr>\n",
       "  </thead>\n",
       "  <tbody>\n",
       "    <tr>\n",
       "      <th>0</th>\n",
       "      <td>k403</td>\n",
       "      <td>Ramicane</td>\n",
       "      <td>Male</td>\n",
       "      <td>21</td>\n",
       "      <td>16</td>\n",
       "      <td>0</td>\n",
       "      <td>45.000000</td>\n",
       "      <td>0</td>\n",
       "    </tr>\n",
       "    <tr>\n",
       "      <th>1</th>\n",
       "      <td>k403</td>\n",
       "      <td>Ramicane</td>\n",
       "      <td>Male</td>\n",
       "      <td>21</td>\n",
       "      <td>16</td>\n",
       "      <td>5</td>\n",
       "      <td>38.825898</td>\n",
       "      <td>0</td>\n",
       "    </tr>\n",
       "    <tr>\n",
       "      <th>2</th>\n",
       "      <td>k403</td>\n",
       "      <td>Ramicane</td>\n",
       "      <td>Male</td>\n",
       "      <td>21</td>\n",
       "      <td>16</td>\n",
       "      <td>10</td>\n",
       "      <td>35.014271</td>\n",
       "      <td>1</td>\n",
       "    </tr>\n",
       "    <tr>\n",
       "      <th>3</th>\n",
       "      <td>k403</td>\n",
       "      <td>Ramicane</td>\n",
       "      <td>Male</td>\n",
       "      <td>21</td>\n",
       "      <td>16</td>\n",
       "      <td>15</td>\n",
       "      <td>34.223992</td>\n",
       "      <td>1</td>\n",
       "    </tr>\n",
       "    <tr>\n",
       "      <th>4</th>\n",
       "      <td>k403</td>\n",
       "      <td>Ramicane</td>\n",
       "      <td>Male</td>\n",
       "      <td>21</td>\n",
       "      <td>16</td>\n",
       "      <td>20</td>\n",
       "      <td>32.997729</td>\n",
       "      <td>1</td>\n",
       "    </tr>\n",
       "    <tr>\n",
       "      <th>...</th>\n",
       "      <td>...</td>\n",
       "      <td>...</td>\n",
       "      <td>...</td>\n",
       "      <td>...</td>\n",
       "      <td>...</td>\n",
       "      <td>...</td>\n",
       "      <td>...</td>\n",
       "      <td>...</td>\n",
       "    </tr>\n",
       "    <tr>\n",
       "      <th>1888</th>\n",
       "      <td>z969</td>\n",
       "      <td>Naftisol</td>\n",
       "      <td>Male</td>\n",
       "      <td>9</td>\n",
       "      <td>30</td>\n",
       "      <td>25</td>\n",
       "      <td>63.145652</td>\n",
       "      <td>2</td>\n",
       "    </tr>\n",
       "    <tr>\n",
       "      <th>1889</th>\n",
       "      <td>z969</td>\n",
       "      <td>Naftisol</td>\n",
       "      <td>Male</td>\n",
       "      <td>9</td>\n",
       "      <td>30</td>\n",
       "      <td>30</td>\n",
       "      <td>65.841013</td>\n",
       "      <td>3</td>\n",
       "    </tr>\n",
       "    <tr>\n",
       "      <th>1890</th>\n",
       "      <td>z969</td>\n",
       "      <td>Naftisol</td>\n",
       "      <td>Male</td>\n",
       "      <td>9</td>\n",
       "      <td>30</td>\n",
       "      <td>35</td>\n",
       "      <td>69.176246</td>\n",
       "      <td>4</td>\n",
       "    </tr>\n",
       "    <tr>\n",
       "      <th>1891</th>\n",
       "      <td>z969</td>\n",
       "      <td>Naftisol</td>\n",
       "      <td>Male</td>\n",
       "      <td>9</td>\n",
       "      <td>30</td>\n",
       "      <td>40</td>\n",
       "      <td>70.314904</td>\n",
       "      <td>4</td>\n",
       "    </tr>\n",
       "    <tr>\n",
       "      <th>1892</th>\n",
       "      <td>z969</td>\n",
       "      <td>Naftisol</td>\n",
       "      <td>Male</td>\n",
       "      <td>9</td>\n",
       "      <td>30</td>\n",
       "      <td>45</td>\n",
       "      <td>73.867845</td>\n",
       "      <td>4</td>\n",
       "    </tr>\n",
       "  </tbody>\n",
       "</table>\n",
       "<p>1893 rows × 8 columns</p>\n",
       "</div>"
      ],
      "text/plain": [
       "     Mouse ID Drug Regimen   Sex  Age_months  Weight (g)  Timepoint  \\\n",
       "0        k403     Ramicane  Male          21          16          0   \n",
       "1        k403     Ramicane  Male          21          16          5   \n",
       "2        k403     Ramicane  Male          21          16         10   \n",
       "3        k403     Ramicane  Male          21          16         15   \n",
       "4        k403     Ramicane  Male          21          16         20   \n",
       "...       ...          ...   ...         ...         ...        ...   \n",
       "1888     z969     Naftisol  Male           9          30         25   \n",
       "1889     z969     Naftisol  Male           9          30         30   \n",
       "1890     z969     Naftisol  Male           9          30         35   \n",
       "1891     z969     Naftisol  Male           9          30         40   \n",
       "1892     z969     Naftisol  Male           9          30         45   \n",
       "\n",
       "      Tumor Volume (mm3)  Metastatic Sites  \n",
       "0              45.000000                 0  \n",
       "1              38.825898                 0  \n",
       "2              35.014271                 1  \n",
       "3              34.223992                 1  \n",
       "4              32.997729                 1  \n",
       "...                  ...               ...  \n",
       "1888           63.145652                 2  \n",
       "1889           65.841013                 3  \n",
       "1890           69.176246                 4  \n",
       "1891           70.314904                 4  \n",
       "1892           73.867845                 4  \n",
       "\n",
       "[1893 rows x 8 columns]"
      ]
     },
     "execution_count": 2,
     "metadata": {},
     "output_type": "execute_result"
    }
   ],
   "source": [
    "MS"
   ]
  },
  {
   "cell_type": "code",
   "execution_count": 3,
   "metadata": {},
   "outputs": [
    {
     "data": {
      "text/html": [
       "<div>\n",
       "<style scoped>\n",
       "    .dataframe tbody tr th:only-of-type {\n",
       "        vertical-align: middle;\n",
       "    }\n",
       "\n",
       "    .dataframe tbody tr th {\n",
       "        vertical-align: top;\n",
       "    }\n",
       "\n",
       "    .dataframe thead th {\n",
       "        text-align: right;\n",
       "    }\n",
       "</style>\n",
       "<table border=\"1\" class=\"dataframe\">\n",
       "  <thead>\n",
       "    <tr style=\"text-align: right;\">\n",
       "      <th></th>\n",
       "      <th>Mean</th>\n",
       "      <th>Median</th>\n",
       "      <th>Variance</th>\n",
       "      <th>Standard Deviation</th>\n",
       "      <th>SEM</th>\n",
       "    </tr>\n",
       "    <tr>\n",
       "      <th>Drug Regimen</th>\n",
       "      <th></th>\n",
       "      <th></th>\n",
       "      <th></th>\n",
       "      <th></th>\n",
       "      <th></th>\n",
       "    </tr>\n",
       "  </thead>\n",
       "  <tbody>\n",
       "    <tr>\n",
       "      <th>Capomulin</th>\n",
       "      <td>40.675741</td>\n",
       "      <td>41.557809</td>\n",
       "      <td>24.947764</td>\n",
       "      <td>4.994774</td>\n",
       "      <td>0.329346</td>\n",
       "    </tr>\n",
       "    <tr>\n",
       "      <th>Ceftamin</th>\n",
       "      <td>52.591172</td>\n",
       "      <td>51.776157</td>\n",
       "      <td>39.290177</td>\n",
       "      <td>6.268188</td>\n",
       "      <td>0.469821</td>\n",
       "    </tr>\n",
       "    <tr>\n",
       "      <th>Infubinol</th>\n",
       "      <td>52.884795</td>\n",
       "      <td>51.820584</td>\n",
       "      <td>43.128684</td>\n",
       "      <td>6.567243</td>\n",
       "      <td>0.492236</td>\n",
       "    </tr>\n",
       "    <tr>\n",
       "      <th>Ketapril</th>\n",
       "      <td>55.235638</td>\n",
       "      <td>53.698743</td>\n",
       "      <td>68.553577</td>\n",
       "      <td>8.279709</td>\n",
       "      <td>0.603860</td>\n",
       "    </tr>\n",
       "    <tr>\n",
       "      <th>Naftisol</th>\n",
       "      <td>54.331565</td>\n",
       "      <td>52.509285</td>\n",
       "      <td>66.173479</td>\n",
       "      <td>8.134708</td>\n",
       "      <td>0.596466</td>\n",
       "    </tr>\n",
       "    <tr>\n",
       "      <th>Placebo</th>\n",
       "      <td>54.033581</td>\n",
       "      <td>52.288934</td>\n",
       "      <td>61.168083</td>\n",
       "      <td>7.821003</td>\n",
       "      <td>0.581331</td>\n",
       "    </tr>\n",
       "    <tr>\n",
       "      <th>Propriva</th>\n",
       "      <td>52.322552</td>\n",
       "      <td>50.854632</td>\n",
       "      <td>42.351070</td>\n",
       "      <td>6.507770</td>\n",
       "      <td>0.512884</td>\n",
       "    </tr>\n",
       "    <tr>\n",
       "      <th>Ramicane</th>\n",
       "      <td>40.216745</td>\n",
       "      <td>40.673236</td>\n",
       "      <td>23.486704</td>\n",
       "      <td>4.846308</td>\n",
       "      <td>0.320955</td>\n",
       "    </tr>\n",
       "    <tr>\n",
       "      <th>Stelasyn</th>\n",
       "      <td>54.233149</td>\n",
       "      <td>52.431737</td>\n",
       "      <td>59.450562</td>\n",
       "      <td>7.710419</td>\n",
       "      <td>0.573111</td>\n",
       "    </tr>\n",
       "    <tr>\n",
       "      <th>Zoniferol</th>\n",
       "      <td>53.236507</td>\n",
       "      <td>51.818479</td>\n",
       "      <td>48.533355</td>\n",
       "      <td>6.966589</td>\n",
       "      <td>0.516398</td>\n",
       "    </tr>\n",
       "  </tbody>\n",
       "</table>\n",
       "</div>"
      ],
      "text/plain": [
       "                   Mean     Median   Variance  Standard Deviation       SEM\n",
       "Drug Regimen                                                               \n",
       "Capomulin     40.675741  41.557809  24.947764            4.994774  0.329346\n",
       "Ceftamin      52.591172  51.776157  39.290177            6.268188  0.469821\n",
       "Infubinol     52.884795  51.820584  43.128684            6.567243  0.492236\n",
       "Ketapril      55.235638  53.698743  68.553577            8.279709  0.603860\n",
       "Naftisol      54.331565  52.509285  66.173479            8.134708  0.596466\n",
       "Placebo       54.033581  52.288934  61.168083            7.821003  0.581331\n",
       "Propriva      52.322552  50.854632  42.351070            6.507770  0.512884\n",
       "Ramicane      40.216745  40.673236  23.486704            4.846308  0.320955\n",
       "Stelasyn      54.233149  52.431737  59.450562            7.710419  0.573111\n",
       "Zoniferol     53.236507  51.818479  48.533355            6.966589  0.516398"
      ]
     },
     "execution_count": 3,
     "metadata": {},
     "output_type": "execute_result"
    }
   ],
   "source": [
    "# Generate a summary statistics table of mean, median, variance, standard deviation, and SEM of the tumor volume for each DRUG regimen\n",
    "pd.DataFrame({\n",
    "    \"Mean\":MS.groupby(\"Drug Regimen\")[\"Tumor Volume (mm3)\"].mean(),\n",
    "    \"Median\":MS.groupby(\"Drug Regimen\")[\"Tumor Volume (mm3)\"].median(),\n",
    "    \"Variance\":MS.groupby(\"Drug Regimen\")[\"Tumor Volume (mm3)\"].var(),\n",
    "    \"Standard Deviation\":MS.groupby(\"Drug Regimen\")[\"Tumor Volume (mm3)\"].std(),\n",
    "    \"SEM\":MS.groupby(\"Drug Regimen\")[\"Tumor Volume (mm3)\"].sem()\n",
    "})"
   ]
  },
  {
   "cell_type": "markdown",
   "metadata": {},
   "source": [
    "## Bar plots"
   ]
  },
  {
   "cell_type": "code",
   "execution_count": 4,
   "metadata": {},
   "outputs": [
    {
     "data": {
      "image/png": "[encoded data removed]",
      "text/plain": [
       "<Figure size 432x288 with 1 Axes>"
      ]
     },
     "metadata": {
      "needs_background": "light"
     },
     "output_type": "display_data"
    }
   ],
   "source": [
    "# Generate a bar plot showing number of data points for each treatment regimen using pandas\n",
    "DataPoints=MS.groupby(\"Drug Regimen\")[\"Drug Regimen\"].count()\n",
    "BarPandas=DataPoints.plot.bar()\n",
    "BarPandas.set_ylabel(\"Count for each treatment\")\n",
    "plt.show()"
   ]
  },
  {
   "cell_type": "code",
   "execution_count": 5,
   "metadata": {},
   "outputs": [],
   "source": [
    "DF=pd.DataFrame(DataPoints)\n",
    "DFnumpy=DF[\"Drug Regimen\"].to_numpy()"
   ]
  },
  {
   "cell_type": "code",
   "execution_count": 6,
   "metadata": {},
   "outputs": [],
   "source": [
    "DR=MS[\"Drug Regimen\"].unique()"
   ]
  },
  {
   "cell_type": "code",
   "execution_count": 7,
   "metadata": {},
   "outputs": [
    {
     "data": {
      "image/png": "[encoded data removed]",
      "text/plain": [
       "<Figure size 432x288 with 1 Axes>"
      ]
     },
     "metadata": {
      "needs_background": "light"
     },
     "output_type": "display_data"
    }
   ],
   "source": [
    "# Generate a bar plot showing number of data points for each treatment regimen usin\n",
    "MS[\"Drug Regimen\"].unique()\n",
    "plt.bar(DR,DFnumpy)\n",
    "plt.xticks(rotation=\"vertical\")\n",
    "plt.xlabel(\"Drug Regimen\")\n",
    "plt.ylabel(\"Count for each treatment\")\n",
    "plt.show()"
   ]
  },
  {
   "cell_type": "markdown",
   "metadata": {},
   "source": [
    "## Pie plots"
   ]
  },
  {
   "cell_type": "code",
   "execution_count": 8,
   "metadata": {},
   "outputs": [
    {
     "data": {
      "image/png": "[encoded data removed]",
      "text/plain": [
       "<Figure size 432x288 with 1 Axes>"
      ]
     },
     "metadata": {},
     "output_type": "display_data"
    }
   ],
   "source": [
    "# Generate a pie plot showing the distribution of female versus male mice using pandas\n",
    "SexDist=MS.groupby(\"Sex\")[\"Sex\"].count()\n",
    "PiePa=SexDist.plot.pie(subplots=True,autopct=\"%1.1f%%\")"
   ]
  },
  {
   "cell_type": "markdown",
   "metadata": {},
   "source": [
    "## Quartiles, outliers and boxplots"
   ]
  },
  {
   "cell_type": "code",
   "execution_count": 9,
   "metadata": {},
   "outputs": [
    {
     "name": "stdout",
     "output_type": "stream",
     "text": [
      "The interquartile range for Capomulin is: 7.781863460000004\n",
      "The interquartile range for Ramicane is: 7.527130082499998\n",
      "The interquartile range for Infubinol is: 7.527130082499998\n",
      "The interquartile range for Ceftamin is: 7.527130082499998\n"
     ]
    },
    {
     "data": {
      "text/html": [
       "<div>\n",
       "<style scoped>\n",
       "    .dataframe tbody tr th:only-of-type {\n",
       "        vertical-align: middle;\n",
       "    }\n",
       "\n",
       "    .dataframe tbody tr th {\n",
       "        vertical-align: top;\n",
       "    }\n",
       "\n",
       "    .dataframe thead th {\n",
       "        text-align: right;\n",
       "    }\n",
       "</style>\n",
       "<table border=\"1\" class=\"dataframe\">\n",
       "  <thead>\n",
       "    <tr style=\"text-align: right;\">\n",
       "      <th></th>\n",
       "      <th>Capomulin</th>\n",
       "      <th>Ramicane</th>\n",
       "      <th>Infubinol</th>\n",
       "      <th>Ceftamin</th>\n",
       "    </tr>\n",
       "  </thead>\n",
       "  <tbody>\n",
       "    <tr>\n",
       "      <th>IQR</th>\n",
       "      <td>7.781863</td>\n",
       "      <td>7.52713</td>\n",
       "      <td>7.52713</td>\n",
       "      <td>7.52713</td>\n",
       "    </tr>\n",
       "  </tbody>\n",
       "</table>\n",
       "</div>"
      ],
      "text/plain": [
       "     Capomulin  Ramicane  Infubinol  Ceftamin\n",
       "IQR   7.781863   7.52713    7.52713   7.52713"
      ]
     },
     "execution_count": 9,
     "metadata": {},
     "output_type": "execute_result"
    }
   ],
   "source": [
    "#  Calculate the final tumor volume of each mouse across four of the most promising treatment regimens. Calculate the IQR and quantitatively determine if there are any potential outliers. \n",
    "#  Capomulin, Ramicane, Infubinol, and Ceftamin.\n",
    "M=MS.set_index(\"Drug Regimen\")\n",
    "#  Capomulin\n",
    "C=M.loc[[\"Capomulin\"],[\"Tumor Volume (mm3)\",\"Mouse ID\",\"Timepoint\"]]\n",
    "Capomulin=C.query(f\"Timepoint== 45\")\n",
    "qrtls = Capomulin['Tumor Volume (mm3)'].quantile([.25,.5,.75])\n",
    "lq = qrtls[0.25]\n",
    "uq = qrtls[0.75]\n",
    "iqr = uq-lq\n",
    "print(f\"The interquartile range for Capomulin is: {iqr}\")\n",
    "ld = lq - (1.5*iqr)\n",
    "ud = uq + (1.5*iqr)\n",
    "#  Ramicane\n",
    "R=M.loc[[\"Ramicane\"],[\"Tumor Volume (mm3)\",\"Mouse ID\",\"Timepoint\"]]\n",
    "Ramicane=R.query(f\"Timepoint== 45\")\n",
    "qrtls1 = Ramicane['Tumor Volume (mm3)'].quantile([.25,.5,.75])\n",
    "lq1 = qrtls1[0.25]\n",
    "uq1 = qrtls1[0.75]\n",
    "iqr1 = uq1-lq1\n",
    "print(f\"The interquartile range for Ramicane is: {iqr1}\")\n",
    "ld1 = lq1 - (1.5*iqr1)\n",
    "ud1 = uq1 + (1.5*iqr1)\n",
    "#  Infubinol\n",
    "I=M.loc[[\"Ramicane\"],[\"Tumor Volume (mm3)\",\"Mouse ID\",\"Timepoint\"]]\n",
    "Infubinol=I.query(f\"Timepoint== 45\")\n",
    "qrtls2 = Infubinol['Tumor Volume (mm3)'].quantile([.25,.5,.75])\n",
    "lq2= qrtls2[0.25]\n",
    "uq2 = qrtls2[0.75]\n",
    "iqr2 = uq2-lq2\n",
    "print(f\"The interquartile range for Infubinol is: {iqr2}\")\n",
    "ld2 = lq2 - (1.5*iqr2)\n",
    "ud2 = uq2 + (1.5*iqr2)\n",
    "#  Ceftamin\n",
    "Ce=M.loc[[\"Ramicane\"],[\"Tumor Volume (mm3)\",\"Mouse ID\",\"Timepoint\"]]\n",
    "Ceftamin=Ce.query(f\"Timepoint== 45\")\n",
    "qrtls3 = Ceftamin['Tumor Volume (mm3)'].quantile([.25,.5,.75])\n",
    "lq3= qrtls3[0.25]\n",
    "uq3 = qrtls3[0.75]\n",
    "iqr3 = uq3-lq3\n",
    "print(f\"The interquartile range for Ceftamin is: {iqr3}\")\n",
    "ld3 = lq3 - (1.5*iqr3)\n",
    "ud3 = uq3 + (1.5*iqr3)\n",
    "\n",
    "IQR=pd.DataFrame({\n",
    "    \"Capomulin\":iqr,\n",
    "    \"Ramicane\":iqr1,\n",
    "    \"Infubinol\":iqr2,\n",
    "    \"Ceftamin\":iqr3\n",
    "},index=[\"IQR\"])\n",
    "IQR"
   ]
  },
  {
   "cell_type": "code",
   "execution_count": 10,
   "metadata": {},
   "outputs": [
    {
     "name": "stdout",
     "output_type": "stream",
     "text": [
      "There are no outliers for Capomulin\n",
      "Empty DataFrame\n",
      "Columns: [Tumor Volume (mm3), Mouse ID, Timepoint]\n",
      "Index: []\n",
      "There are no outliers for Ramicane\n",
      "Empty DataFrame\n",
      "Columns: [Tumor Volume (mm3), Mouse ID, Timepoint]\n",
      "Index: []\n",
      "There are no outliers for Infubinol\n",
      "Empty DataFrame\n",
      "Columns: [Tumor Volume (mm3), Mouse ID, Timepoint]\n",
      "Index: []\n",
      "There are no outliers for Ceftamin\n",
      "Empty DataFrame\n",
      "Columns: [Tumor Volume (mm3), Mouse ID, Timepoint]\n",
      "Index: []\n"
     ]
    }
   ],
   "source": [
    "Outliers=Capomulin.loc[(Capomulin[\"Tumor Volume (mm3)\"]<ld)|(Capomulin[\"Tumor Volume (mm3)\"]>ud)]\n",
    "print(\"There are no outliers for Capomulin\")\n",
    "print(f\"{Outliers}\")\n",
    "\n",
    "Outliers1=Ramicane.loc[(Ramicane[\"Tumor Volume (mm3)\"]<ld)|(Ramicane[\"Tumor Volume (mm3)\"]>ud)]\n",
    "print(\"There are no outliers for Ramicane\")\n",
    "print(f\"{Outliers1}\")\n",
    "\n",
    "Outliers2=Infubinol.loc[(Infubinol[\"Tumor Volume (mm3)\"]<ld)|(Infubinol[\"Tumor Volume (mm3)\"]>ud)]\n",
    "print(\"There are no outliers for Infubinol\")\n",
    "print(f\"{Outliers2}\")\n",
    "\n",
    "Outliers3=Ceftamin.loc[(Ceftamin[\"Tumor Volume (mm3)\"]<ld)|(Ceftamin[\"Tumor Volume (mm3)\"]>ud)]\n",
    "print(\"There are no outliers for Ceftamin\")\n",
    "print(f\"{Outliers3}\")"
   ]
  },
  {
   "cell_type": "code",
   "execution_count": 11,
   "metadata": {},
   "outputs": [
    {
     "data": {
      "image/png": "[encoded data removed]",
      "text/plain": [
       "<Figure size 432x288 with 4 Axes>"
      ]
     },
     "metadata": {
      "needs_background": "light"
     },
     "output_type": "display_data"
    }
   ],
   "source": [
    "# Generate a box plot of the final tumor volume of each mouse across four regimens of interest\n",
    "fig1, (ax1,ax2,ax3,ax4) = plt.subplots(4,sharex=True)\n",
    "\n",
    "ax1.boxplot(Capomulin['Tumor Volume (mm3)'])\n",
    "ax1.set_ylabel('Capomulin')\n",
    "\n",
    "ax2.boxplot(Ramicane['Tumor Volume (mm3)'])\n",
    "ax2.set_ylabel('Ramicane')\n",
    "\n",
    "ax3.boxplot(Infubinol['Tumor Volume (mm3)'])\n",
    "ax3.set_ylabel('Infubinol')\n",
    "\n",
    "ax4.boxplot(Ceftamin['Tumor Volume (mm3)'])\n",
    "ax4.set_ylabel('Ceftamin')\n",
    "\n",
    "fig1.suptitle('Final tumor volume for each regimen') \n",
    "plt.show()"
   ]
  },
  {
   "cell_type": "markdown",
   "metadata": {},
   "source": [
    "## Line and scatter plots"
   ]
  },
  {
   "cell_type": "code",
   "execution_count": 12,
   "metadata": {},
   "outputs": [
    {
     "data": {
      "image/png": "[encoded data removed]",
      "text/plain": [
       "<Figure size 432x288 with 1 Axes>"
      ]
     },
     "metadata": {
      "needs_background": "light"
     },
     "output_type": "display_data"
    }
   ],
   "source": [
    "# Generate a line plot of time point versus tumor volume for a mouse treated with Capomulin\n",
    "P=M.loc[[\"Capomulin\"],[\"Tumor Volume (mm3)\",\"Mouse ID\",\"Timepoint\"]]\n",
    "L=P.set_index(\"Mouse ID\")\n",
    "SM=L.loc[\"s185\"]\n",
    "plt.plot(SM[\"Timepoint\"],SM[\"Tumor Volume (mm3)\"],marker=\"o\")\n",
    "plt.xlabel(\"Timepoint\")\n",
    "plt.ylabel(\"Tumor Volume (mm3)\")\n",
    "plt.title(\"Mouse S185 treated with Capomulin\")\n",
    "plt.show()"
   ]
  },
  {
   "cell_type": "code",
   "execution_count": 13,
   "metadata": {},
   "outputs": [],
   "source": [
    "# Generate a scatter plot of mouse weight versus average tumor volume for the Capomulin regimen\n",
    "MW=M.loc[[\"Capomulin\"],[\"Tumor Volume (mm3)\",\"Weight (g)\",\"Mouse ID\"]]\n",
    "A=pd.DataFrame(MW.groupby(\"Mouse ID\",as_index=False)[\"Tumor Volume (mm3)\"].mean())\n",
    "B=pd.DataFrame(MW.groupby(\"Mouse ID\",as_index=False)[\"Weight (g)\"].mean())\n",
    "C=pd.merge(A,B,on=\"Mouse ID\")"
   ]
  },
  {
   "cell_type": "code",
   "execution_count": 14,
   "metadata": {
    "scrolled": true
   },
   "outputs": [
    {
     "name": "stdout",
     "output_type": "stream",
     "text": [
      "The correlation coefficient(R^2) is: 0.8419363424694718\n"
     ]
    },
    {
     "data": {
      "image/png": "[encoded data removed]",
      "text/plain": [
       "<Figure size 432x288 with 1 Axes>"
      ]
     },
     "metadata": {
      "needs_background": "light"
     },
     "output_type": "display_data"
    }
   ],
   "source": [
    "# Calculate the correlation coefficient and linear regression model for mouse weight and average tumor volume for the Capomulin regimen\n",
    "x_values = C[\"Weight (g)\"]\n",
    "y_values = C[\"Tumor Volume (mm3)\"]\n",
    "(slope, intercept, rvalue, pvalue, stderr) = st.linregress(x_values, y_values)\n",
    "regress_values = x_values * slope + intercept\n",
    "line_eq = \"y = \" + str(round(slope,2)) + \"x + \" + str(round(intercept,2))\n",
    "plt.scatter(x_values,y_values)\n",
    "plt.plot(x_values,regress_values,\"r-\")\n",
    "plt.annotate(line_eq,(18,36),fontsize=15,color=\"red\")\n",
    "plt.xlabel('Weight (g)')\n",
    "plt.ylabel('Avg Tumor Volume')\n",
    "plt.title(\"Avg Tumor Volume vs Weight(g)\")\n",
    "R2=\"R^2=\"+str(round(rvalue,4))\n",
    "plt.annotate(R2,(22,38),fontsize=15,color=\"red\")\n",
    "print(f\"The correlation coefficient(R^2) is: {rvalue}\")\n",
    "plt.show()"
   ]
  }
 ],
 "metadata": {
  "anaconda-cloud": {},
  "kernelspec": {
   "display_name": "Python 3",
   "language": "python",
   "name": "python3"
  },
  "language_info": {
   "codemirror_mode": {
    "name": "ipython",
    "version": 3
   },
   "file_extension": ".py",
   "mimetype": "text/x-python",
   "name": "python",
   "nbconvert_exporter": "python",
   "pygments_lexer": "ipython3",
   "version": "3.7.6"
  }
 },
 "nbformat": 4,
 "nbformat_minor": 2
}
